{
 "cells": [
  {
   "cell_type": "code",
   "execution_count": 1,
   "id": "4bde1072",
   "metadata": {},
   "outputs": [],
   "source": [
    "import matplotlib.pyplot as plt\n",
    "from kneed import KneeLocator\n",
    "#from sklearn.datasets import make_blobs\n",
    "from sklearn.cluster import KMeans\n",
    "from sklearn.metrics import silhouette_score\n",
    "from sklearn.preprocessing import StandardScaler\n",
    "import pandas as pd\n",
    "import numpy as np"
   ]
  },
  {
   "cell_type": "code",
   "execution_count": 2,
   "id": "5284f334",
   "metadata": {},
   "outputs": [],
   "source": [
    "blobs = pd.read_csv(\"blobs.csv\")"
   ]
  },
  {
   "cell_type": "code",
   "execution_count": 3,
   "id": "58af5a31",
   "metadata": {},
   "outputs": [
    {
     "data": {
      "text/html": [
       "<div>\n",
       "<style scoped>\n",
       "    .dataframe tbody tr th:only-of-type {\n",
       "        vertical-align: middle;\n",
       "    }\n",
       "\n",
       "    .dataframe tbody tr th {\n",
       "        vertical-align: top;\n",
       "    }\n",
       "\n",
       "    .dataframe thead th {\n",
       "        text-align: right;\n",
       "    }\n",
       "</style>\n",
       "<table border=\"1\" class=\"dataframe\">\n",
       "  <thead>\n",
       "    <tr style=\"text-align: right;\">\n",
       "      <th></th>\n",
       "      <th>x1</th>\n",
       "      <th>x2</th>\n",
       "    </tr>\n",
       "  </thead>\n",
       "  <tbody>\n",
       "    <tr>\n",
       "      <th>0</th>\n",
       "      <td>5.943182</td>\n",
       "      <td>-3.500306</td>\n",
       "    </tr>\n",
       "    <tr>\n",
       "      <th>1</th>\n",
       "      <td>-7.225687</td>\n",
       "      <td>0.680714</td>\n",
       "    </tr>\n",
       "    <tr>\n",
       "      <th>2</th>\n",
       "      <td>-7.651328</td>\n",
       "      <td>2.813673</td>\n",
       "    </tr>\n",
       "    <tr>\n",
       "      <th>3</th>\n",
       "      <td>5.920315</td>\n",
       "      <td>-8.113558</td>\n",
       "    </tr>\n",
       "    <tr>\n",
       "      <th>4</th>\n",
       "      <td>-7.450757</td>\n",
       "      <td>1.236711</td>\n",
       "    </tr>\n",
       "    <tr>\n",
       "      <th>...</th>\n",
       "      <td>...</td>\n",
       "      <td>...</td>\n",
       "    </tr>\n",
       "    <tr>\n",
       "      <th>195</th>\n",
       "      <td>6.912867</td>\n",
       "      <td>-8.095758</td>\n",
       "    </tr>\n",
       "    <tr>\n",
       "      <th>196</th>\n",
       "      <td>-7.599752</td>\n",
       "      <td>3.051744</td>\n",
       "    </tr>\n",
       "    <tr>\n",
       "      <th>197</th>\n",
       "      <td>-7.329580</td>\n",
       "      <td>2.459773</td>\n",
       "    </tr>\n",
       "    <tr>\n",
       "      <th>198</th>\n",
       "      <td>-9.666825</td>\n",
       "      <td>3.217633</td>\n",
       "    </tr>\n",
       "    <tr>\n",
       "      <th>199</th>\n",
       "      <td>-7.942666</td>\n",
       "      <td>1.656323</td>\n",
       "    </tr>\n",
       "  </tbody>\n",
       "</table>\n",
       "<p>200 rows × 2 columns</p>\n",
       "</div>"
      ],
      "text/plain": [
       "           x1        x2\n",
       "0    5.943182 -3.500306\n",
       "1   -7.225687  0.680714\n",
       "2   -7.651328  2.813673\n",
       "3    5.920315 -8.113558\n",
       "4   -7.450757  1.236711\n",
       "..        ...       ...\n",
       "195  6.912867 -8.095758\n",
       "196 -7.599752  3.051744\n",
       "197 -7.329580  2.459773\n",
       "198 -9.666825  3.217633\n",
       "199 -7.942666  1.656323\n",
       "\n",
       "[200 rows x 2 columns]"
      ]
     },
     "execution_count": 3,
     "metadata": {},
     "output_type": "execute_result"
    }
   ],
   "source": [
    "blobs"
   ]
  },
  {
   "cell_type": "markdown",
   "id": "deac5f8c",
   "metadata": {},
   "source": [
    "# Making Features"
   ]
  },
  {
   "cell_type": "code",
   "execution_count": 4,
   "id": "ab09dac2",
   "metadata": {},
   "outputs": [],
   "source": [
    "features = blobs.to_numpy()"
   ]
  },
  {
   "cell_type": "code",
   "execution_count": 5,
   "id": "ad2054ab",
   "metadata": {},
   "outputs": [
    {
     "data": {
      "text/plain": [
       "array([[ 5.94318188, -3.50030621],\n",
       "       [-7.22568717,  0.68071409],\n",
       "       [-7.65132821,  2.81367312],\n",
       "       [ 5.92031548, -8.11355755],\n",
       "       [-7.45075723,  1.23671056]])"
      ]
     },
     "execution_count": 5,
     "metadata": {},
     "output_type": "execute_result"
    }
   ],
   "source": [
    "features[:5]"
   ]
  },
  {
   "cell_type": "markdown",
   "id": "697f0d6b",
   "metadata": {},
   "source": [
    "# Scaling Features"
   ]
  },
  {
   "cell_type": "code",
   "execution_count": 35,
   "id": "f30f3540",
   "metadata": {},
   "outputs": [],
   "source": [
    "scaler = StandardScaler()\n",
    "scaled_features = scaler.fit_transform(features)"
   ]
  },
  {
   "cell_type": "code",
   "execution_count": 36,
   "id": "86dbfbba",
   "metadata": {},
   "outputs": [
    {
     "data": {
      "text/plain": [
       "array([[ 0.51943536,  0.003575  ],\n",
       "       [-1.32112199,  0.91529844],\n",
       "       [-1.38061205,  1.38041666],\n",
       "       [ 0.51623942, -1.00240178],\n",
       "       [-1.35257909,  1.03654037]])"
      ]
     },
     "execution_count": 36,
     "metadata": {},
     "output_type": "execute_result"
    }
   ],
   "source": [
    "scaled_features[:5]"
   ]
  },
  {
   "cell_type": "code",
   "execution_count": 37,
   "id": "65a20441",
   "metadata": {},
   "outputs": [],
   "source": [
    "kmeans = KMeans(\n",
    "        init=\"random\",\n",
    "        n_clusters=3,\n",
    "        n_init=10,\n",
    "        max_iter=500,\n",
    "        random_state=42\n",
    "    )"
   ]
  },
  {
   "cell_type": "markdown",
   "id": "5b25b3ef",
   "metadata": {},
   "source": [
    "# Fit first with features without scaling"
   ]
  },
  {
   "cell_type": "code",
   "execution_count": 38,
   "id": "059b9603",
   "metadata": {},
   "outputs": [
    {
     "data": {
      "text/plain": [
       "KMeans(init='random', max_iter=500, n_clusters=3, random_state=42)"
      ]
     },
     "execution_count": 38,
     "metadata": {},
     "output_type": "execute_result"
    }
   ],
   "source": [
    "kmeans.fit(features)"
   ]
  },
  {
   "cell_type": "code",
   "execution_count": 39,
   "id": "d24b17e0",
   "metadata": {},
   "outputs": [
    {
     "data": {
      "text/plain": [
       "383.048332545841"
      ]
     },
     "execution_count": 39,
     "metadata": {},
     "output_type": "execute_result"
    }
   ],
   "source": [
    " # The lowest SSE value\n",
    "kmeans.inertia_"
   ]
  },
  {
   "cell_type": "code",
   "execution_count": 40,
   "id": "bb27360c",
   "metadata": {},
   "outputs": [
    {
     "data": {
      "text/plain": [
       "array([[-7.83589352,  1.94532476],\n",
       "       [ 7.9170901 , -3.37363925],\n",
       "       [ 6.44875079, -9.04026458]])"
      ]
     },
     "execution_count": 40,
     "metadata": {},
     "output_type": "execute_result"
    }
   ],
   "source": [
    "# Final locations of the centroid\n",
    "kmeans.cluster_centers_"
   ]
  },
  {
   "cell_type": "code",
   "execution_count": 41,
   "id": "84ff723c",
   "metadata": {},
   "outputs": [
    {
     "data": {
      "text/plain": [
       "4"
      ]
     },
     "execution_count": 41,
     "metadata": {},
     "output_type": "execute_result"
    }
   ],
   "source": [
    "kmeans.n_iter_"
   ]
  },
  {
   "cell_type": "code",
   "execution_count": 42,
   "id": "f2058bf1",
   "metadata": {},
   "outputs": [
    {
     "data": {
      "text/plain": [
       "array([1, 0, 0, 2, 0])"
      ]
     },
     "execution_count": 42,
     "metadata": {},
     "output_type": "execute_result"
    }
   ],
   "source": [
    "kmeans.labels_[:5]"
   ]
  },
  {
   "cell_type": "code",
   "execution_count": 43,
   "id": "6d73eae7",
   "metadata": {},
   "outputs": [
    {
     "data": {
      "text/plain": [
       "array([1, 0, 0, 2, 0, 0, 0, 2, 2, 1, 0, 2, 1, 1, 2, 1, 0, 1, 0, 2, 0, 1,\n",
       "       0, 0, 1, 0, 0, 1, 0, 2, 1, 1, 2, 0, 0, 1, 2, 1, 0, 0, 2, 2, 1, 2,\n",
       "       1, 0, 2, 1, 2, 1, 1, 0, 0, 2, 0, 1, 1, 2, 2, 1, 1, 0, 1, 1, 1, 1,\n",
       "       0, 2, 0, 2, 0, 2, 2, 0, 1, 1, 2, 2, 1, 2, 0, 1, 1, 2, 2, 2, 0, 0,\n",
       "       0, 0, 2, 1, 2, 2, 0, 0, 2, 1, 0, 0, 1, 0, 2, 2, 2, 1, 0, 2, 2, 2,\n",
       "       2, 1, 1, 1, 0, 1, 2, 1, 2, 2, 2, 0, 0, 1, 0, 2, 0, 2, 1, 2, 2, 0,\n",
       "       1, 2, 0, 2, 2, 0, 0, 0, 0, 1, 1, 2, 0, 1, 2, 0, 1, 1, 2, 2, 1, 1,\n",
       "       1, 0, 1, 1, 0, 1, 2, 2, 2, 2, 1, 2, 0, 0, 1, 0, 1, 1, 0, 1, 1, 2,\n",
       "       1, 1, 2, 1, 1, 2, 2, 2, 2, 1, 2, 1, 2, 0, 1, 0, 0, 0, 0, 2, 0, 0,\n",
       "       0, 0])"
      ]
     },
     "execution_count": 43,
     "metadata": {},
     "output_type": "execute_result"
    }
   ],
   "source": [
    "kmeans.labels_"
   ]
  },
  {
   "cell_type": "code",
   "execution_count": 44,
   "id": "f8a8dd93",
   "metadata": {},
   "outputs": [],
   "source": [
    "kmeans_kwargs = {\n",
    "       \"init\": \"random\",\n",
    "      \"n_init\": 10,\n",
    "      \"max_iter\": 300,\n",
    "       \"random_state\": 42,\n",
    "    }"
   ]
  },
  {
   "cell_type": "code",
   "execution_count": 77,
   "id": "c514e004",
   "metadata": {},
   "outputs": [],
   "source": [
    "sse = []\n",
    "for k in range(1, 11):\n",
    "    kmeans = KMeans(n_clusters=k, **kmeans_kwargs)\n",
    "    kmeans.fit(features)\n",
    "    sse.append(kmeans.inertia_)"
   ]
  },
  {
   "cell_type": "code",
   "execution_count": 78,
   "id": "86c3a2c5",
   "metadata": {},
   "outputs": [
    {
     "data": {
      "image/png": "[encoded data removed]",
      "text/plain": [
       "<Figure size 432x288 with 1 Axes>"
      ]
     },
     "metadata": {},
     "output_type": "display_data"
    }
   ],
   "source": [
    "plt.style.use(\"fivethirtyeight\")\n",
    "plt.plot(range(1, 11), sse)\n",
    "plt.xticks(range(1, 11))\n",
    "plt.xlabel(\"Number of Clusters\")\n",
    "plt.ylabel(\"SSE\")\n",
    "plt.show()"
   ]
  },
  {
   "cell_type": "code",
   "execution_count": 79,
   "id": "d9744972",
   "metadata": {},
   "outputs": [],
   "source": [
    "kl = KneeLocator(\n",
    "    range(1, 11), sse, curve=\"convex\", direction=\"decreasing\"\n",
    ")"
   ]
  },
  {
   "cell_type": "code",
   "execution_count": 80,
   "id": "1f2652c9",
   "metadata": {},
   "outputs": [
    {
     "data": {
      "text/plain": [
       "2"
      ]
     },
     "execution_count": 80,
     "metadata": {},
     "output_type": "execute_result"
    }
   ],
   "source": [
    "kl.elbow"
   ]
  },
  {
   "cell_type": "code",
   "execution_count": 81,
   "id": "21a01fcc",
   "metadata": {},
   "outputs": [],
   "source": [
    "y_kmeans = kmeans.predict(features)"
   ]
  },
  {
   "cell_type": "code",
   "execution_count": 82,
   "id": "855ab5a3",
   "metadata": {},
   "outputs": [
    {
     "data": {
      "text/plain": [
       "<matplotlib.legend.Legend at 0x237718e5460>"
      ]
     },
     "execution_count": 82,
     "metadata": {},
     "output_type": "execute_result"
    },
    {
     "data": {
      "image/png": "[encoded data removed]",
      "text/plain": [
       "<Figure size 432x288 with 1 Axes>"
      ]
     },
     "metadata": {},
     "output_type": "display_data"
    }
   ],
   "source": [
    "fig, ax = plt.subplots()\n",
    "scatter = plt.scatter(features[:, 0], features[:, 1], c=y_kmeans, s=50, cmap='viridis')\n",
    "legend1 = plt.legend(*scatter.legend_elements(),\n",
    "                    loc=\"lower left\", title=\"Classes\")\n",
    "ax.add_artist(legend1)\n"
   ]
  },
  {
   "cell_type": "markdown",
   "id": "c514e962",
   "metadata": {},
   "source": [
    "# Now with scaled Features"
   ]
  },
  {
   "cell_type": "code",
   "execution_count": 51,
   "id": "406e49a7",
   "metadata": {},
   "outputs": [
    {
     "data": {
      "text/plain": [
       "KMeans(init='random', n_clusters=10, random_state=42)"
      ]
     },
     "execution_count": 51,
     "metadata": {},
     "output_type": "execute_result"
    }
   ],
   "source": [
    "kmeans.fit(scaled_features)"
   ]
  },
  {
   "cell_type": "code",
   "execution_count": 52,
   "id": "78ed33e8",
   "metadata": {},
   "outputs": [
    {
     "data": {
      "text/plain": [
       "4.563345538989763"
      ]
     },
     "execution_count": 52,
     "metadata": {},
     "output_type": "execute_result"
    }
   ],
   "source": [
    " # The lowest SSE value\n",
    "kmeans.inertia_"
   ]
  },
  {
   "cell_type": "code",
   "execution_count": 53,
   "id": "f6b5027f",
   "metadata": {},
   "outputs": [
    {
     "data": {
      "text/plain": [
       "array([[ 0.69131624,  0.03479915],\n",
       "       [-1.49774921,  1.44639557],\n",
       "       [ 0.85964328, -0.15598868],\n",
       "       [-1.35626511,  0.91315183],\n",
       "       [ 0.66982606, -0.92160061],\n",
       "       [ 0.57341188, -1.40703464],\n",
       "       [ 0.71843086, -1.16805151],\n",
       "       [ 0.85400604,  0.27577234],\n",
       "       [-1.38543281,  1.21240864],\n",
       "       [ 0.43280216, -1.01284327]])"
      ]
     },
     "execution_count": 53,
     "metadata": {},
     "output_type": "execute_result"
    }
   ],
   "source": [
    "# Final locations of the centroid\n",
    "kmeans.cluster_centers_"
   ]
  },
  {
   "cell_type": "code",
   "execution_count": 54,
   "id": "1d9db06d",
   "metadata": {},
   "outputs": [
    {
     "data": {
      "text/plain": [
       "9"
      ]
     },
     "execution_count": 54,
     "metadata": {},
     "output_type": "execute_result"
    }
   ],
   "source": [
    "kmeans.n_iter_"
   ]
  },
  {
   "cell_type": "code",
   "execution_count": 55,
   "id": "deb86023",
   "metadata": {},
   "outputs": [
    {
     "data": {
      "text/plain": [
       "array([0, 3, 1, 9, 3])"
      ]
     },
     "execution_count": 55,
     "metadata": {},
     "output_type": "execute_result"
    }
   ],
   "source": [
    "kmeans.labels_[:5]"
   ]
  },
  {
   "cell_type": "code",
   "execution_count": 56,
   "id": "1986a1dd",
   "metadata": {},
   "outputs": [],
   "source": [
    "kmeans_kwargs = {\n",
    "       \"init\": \"random\",\n",
    "      \"n_init\": 10,\n",
    "      \"max_iter\": 300,\n",
    "       \"random_state\": 42,\n",
    "    }"
   ]
  },
  {
   "cell_type": "code",
   "execution_count": 71,
   "id": "8eb87076",
   "metadata": {},
   "outputs": [],
   "source": [
    "sse = []\n",
    "for k in range(1, 11):\n",
    "    kmeans = KMeans(n_clusters=k, **kmeans_kwargs)\n",
    "    kmeans.fit(scaled_features)\n",
    "    sse.append(kmeans.inertia_)"
   ]
  },
  {
   "cell_type": "code",
   "execution_count": 72,
   "id": "42c247fd",
   "metadata": {},
   "outputs": [
    {
     "data": {
      "image/png": "[encoded data removed]",
      "text/plain": [
       "<Figure size 432x288 with 1 Axes>"
      ]
     },
     "metadata": {},
     "output_type": "display_data"
    }
   ],
   "source": [
    "plt.style.use(\"fivethirtyeight\")\n",
    "plt.plot(range(1, 11), sse)\n",
    "plt.xticks(range(1, 11))\n",
    "plt.xlabel(\"Number of Clusters\")\n",
    "plt.ylabel(\"SSE\")\n",
    "plt.show()"
   ]
  },
  {
   "cell_type": "code",
   "execution_count": 73,
   "id": "97fd05ad",
   "metadata": {},
   "outputs": [],
   "source": [
    "kl = KneeLocator(\n",
    "    range(1, 11), sse, curve=\"convex\", direction=\"decreasing\"\n",
    ")"
   ]
  },
  {
   "cell_type": "code",
   "execution_count": 74,
   "id": "f7cc44df",
   "metadata": {},
   "outputs": [
    {
     "data": {
      "text/plain": [
       "3"
      ]
     },
     "execution_count": 74,
     "metadata": {},
     "output_type": "execute_result"
    }
   ],
   "source": [
    "kl.elbow"
   ]
  },
  {
   "cell_type": "code",
   "execution_count": 75,
   "id": "1308acda",
   "metadata": {},
   "outputs": [],
   "source": [
    "y_kmeans = kmeans.predict(features)"
   ]
  },
  {
   "cell_type": "code",
   "execution_count": 76,
   "id": "97702e51",
   "metadata": {},
   "outputs": [
    {
     "data": {
      "text/plain": [
       "<matplotlib.legend.Legend at 0x2377068a190>"
      ]
     },
     "execution_count": 76,
     "metadata": {},
     "output_type": "execute_result"
    },
    {
     "data": {
      "image/png": "[encoded data removed]",
      "text/plain": [
       "<Figure size 432x288 with 1 Axes>"
      ]
     },
     "metadata": {},
     "output_type": "display_data"
    }
   ],
   "source": [
    "fig, ax = plt.subplots()\n",
    "scatter = plt.scatter(features[:, 0], features[:, 1], c=y_kmeans, s=50, cmap='viridis')\n",
    "legend1 = plt.legend(*scatter.legend_elements(),\n",
    "                    loc=\"lower left\", title=\"Classes\")\n",
    "ax.add_artist(legend1)\n"
   ]
  },
  {
   "cell_type": "markdown",
   "id": "9bd2d9b7",
   "metadata": {},
   "source": [
    "# Using Circles Dataset"
   ]
  },
  {
   "cell_type": "code",
   "execution_count": 83,
   "id": "ea32a713",
   "metadata": {},
   "outputs": [],
   "source": [
    "circles = pd.read_csv(\"circles.csv\")"
   ]
  },
  {
   "cell_type": "code",
   "execution_count": 84,
   "id": "834e3a31",
   "metadata": {},
   "outputs": [],
   "source": [
    "features = circles.to_numpy()"
   ]
  },
  {
   "cell_type": "code",
   "execution_count": 85,
   "id": "f5c963fb",
   "metadata": {},
   "outputs": [
    {
     "data": {
      "text/plain": [
       "array([[-0.88821555, -0.49879509],\n",
       "       [-0.78463728,  0.6747389 ],\n",
       "       [-0.5323783 ,  0.86799   ],\n",
       "       [ 0.76117401,  0.06131124],\n",
       "       [ 0.3897783 , -0.6443342 ]])"
      ]
     },
     "execution_count": 85,
     "metadata": {},
     "output_type": "execute_result"
    }
   ],
   "source": [
    "features[:5]"
   ]
  },
  {
   "cell_type": "code",
   "execution_count": 86,
   "id": "e0e7298e",
   "metadata": {},
   "outputs": [],
   "source": [
    "scaler = StandardScaler()\n",
    "scaled_features = scaler.fit_transform(features)"
   ]
  },
  {
   "cell_type": "code",
   "execution_count": 87,
   "id": "0f126c50",
   "metadata": {},
   "outputs": [
    {
     "data": {
      "text/plain": [
       "array([[-1.38624556, -0.78087363],\n",
       "       [-1.22526495,  1.05054392],\n",
       "       [-0.83320582,  1.35213164],\n",
       "       [ 1.17722411,  0.09322849],\n",
       "       [ 0.6000035 , -1.00800202]])"
      ]
     },
     "execution_count": 87,
     "metadata": {},
     "output_type": "execute_result"
    }
   ],
   "source": [
    "scaled_features[:5]"
   ]
  },
  {
   "cell_type": "code",
   "execution_count": 88,
   "id": "fe747831",
   "metadata": {},
   "outputs": [],
   "source": [
    "kmeans = KMeans(\n",
    "        init=\"random\",\n",
    "        n_clusters=2,\n",
    "        n_init=10,\n",
    "        max_iter=500,\n",
    "        random_state=42\n",
    "    )"
   ]
  },
  {
   "cell_type": "code",
   "execution_count": 89,
   "id": "72f5d1e5",
   "metadata": {},
   "outputs": [
    {
     "data": {
      "text/plain": [
       "KMeans(init='random', max_iter=500, n_clusters=2, random_state=42)"
      ]
     },
     "execution_count": 89,
     "metadata": {},
     "output_type": "execute_result"
    }
   ],
   "source": [
    "kmeans.fit(features)"
   ]
  },
  {
   "cell_type": "code",
   "execution_count": 90,
   "id": "00d1b1ce",
   "metadata": {},
   "outputs": [
    {
     "data": {
      "text/plain": [
       "98.31679648692753"
      ]
     },
     "execution_count": 90,
     "metadata": {},
     "output_type": "execute_result"
    }
   ],
   "source": [
    " # The lowest SSE value\n",
    "kmeans.inertia_"
   ]
  },
  {
   "cell_type": "code",
   "execution_count": 91,
   "id": "f5b54470",
   "metadata": {},
   "outputs": [
    {
     "data": {
      "text/plain": [
       "array([[ 0.42932906, -0.422237  ],\n",
       "       [-0.38914298,  0.39278103]])"
      ]
     },
     "execution_count": 91,
     "metadata": {},
     "output_type": "execute_result"
    }
   ],
   "source": [
    "# Final locations of the centroid\n",
    "kmeans.cluster_centers_"
   ]
  },
  {
   "cell_type": "code",
   "execution_count": 92,
   "id": "cbf868d3",
   "metadata": {},
   "outputs": [
    {
     "data": {
      "text/plain": [
       "3"
      ]
     },
     "execution_count": 92,
     "metadata": {},
     "output_type": "execute_result"
    }
   ],
   "source": [
    "kmeans.n_iter_"
   ]
  },
  {
   "cell_type": "code",
   "execution_count": 93,
   "id": "9467a296",
   "metadata": {},
   "outputs": [
    {
     "data": {
      "text/plain": [
       "array([1, 1, 1, 0, 0])"
      ]
     },
     "execution_count": 93,
     "metadata": {},
     "output_type": "execute_result"
    }
   ],
   "source": [
    "kmeans.labels_[:5]"
   ]
  },
  {
   "cell_type": "code",
   "execution_count": 94,
   "id": "c66681f0",
   "metadata": {},
   "outputs": [
    {
     "data": {
      "text/plain": [
       "array([1, 1, 1, 0, 0, 0, 0, 0, 1, 0, 0, 1, 0, 0, 0, 1, 1, 1, 1, 1, 1, 1,\n",
       "       1, 0, 1, 1, 1, 1, 0, 1, 1, 0, 0, 0, 0, 0, 0, 0, 0, 0, 0, 0, 0, 1,\n",
       "       1, 1, 1, 1, 0, 1, 0, 1, 1, 1, 1, 0, 0, 0, 0, 1, 1, 0, 0, 1, 1, 0,\n",
       "       1, 0, 1, 0, 1, 0, 0, 1, 0, 1, 1, 1, 0, 1, 1, 0, 0, 1, 0, 1, 0, 1,\n",
       "       0, 1, 0, 1, 1, 0, 1, 0, 0, 0, 1, 0, 0, 1, 0, 1, 0, 0, 0, 1, 0, 1,\n",
       "       0, 1, 0, 0, 1, 0, 0, 1, 1, 1, 0, 0, 1, 1, 1, 0, 0, 1, 0, 0, 1, 0,\n",
       "       0, 0, 1, 1, 1, 0, 0, 0, 1, 1, 0, 0, 0, 1, 1, 1, 0, 0, 1, 1, 0, 1,\n",
       "       1, 0, 0, 1, 1, 1, 0, 1, 1, 1, 0, 0, 1, 1, 0, 1, 1, 1, 1, 0, 0, 1,\n",
       "       0, 0, 0, 1, 1, 1, 1, 1, 1, 0, 1, 0, 1, 1, 0, 1, 1, 0, 0, 1, 1, 0,\n",
       "       1, 1])"
      ]
     },
     "execution_count": 94,
     "metadata": {},
     "output_type": "execute_result"
    }
   ],
   "source": [
    "kmeans.labels_"
   ]
  },
  {
   "cell_type": "code",
   "execution_count": 63,
   "id": "b1c3d258",
   "metadata": {},
   "outputs": [],
   "source": [
    "kmeans_kwargs = {\n",
    "       \"init\": \"random\",\n",
    "      \"n_init\": 10,\n",
    "      \"max_iter\": 300,\n",
    "       \"random_state\": 42,\n",
    "    }"
   ]
  },
  {
   "cell_type": "code",
   "execution_count": 95,
   "id": "d684ae94",
   "metadata": {},
   "outputs": [],
   "source": [
    "sse = []\n",
    "for k in range(1, 11):\n",
    "    kmeans = KMeans(n_clusters=k, **kmeans_kwargs)\n",
    "    kmeans.fit(scaled_features)\n",
    "    sse.append(kmeans.inertia_)"
   ]
  },
  {
   "cell_type": "code",
   "execution_count": 96,
   "id": "ecd34f16",
   "metadata": {},
   "outputs": [
    {
     "data": {
      "image/png": "[encoded data removed]",
      "text/plain": [
       "<Figure size 432x288 with 1 Axes>"
      ]
     },
     "metadata": {},
     "output_type": "display_data"
    }
   ],
   "source": [
    "plt.style.use(\"fivethirtyeight\")\n",
    "plt.plot(range(1, 11), sse)\n",
    "plt.xticks(range(1, 11))\n",
    "plt.xlabel(\"Number of Clusters\")\n",
    "plt.ylabel(\"SSE\")\n",
    "plt.show()"
   ]
  },
  {
   "cell_type": "code",
   "execution_count": 97,
   "id": "354c9981",
   "metadata": {},
   "outputs": [],
   "source": [
    "kl = KneeLocator(\n",
    "    range(1, 11), sse, curve=\"convex\", direction=\"decreasing\"\n",
    ")"
   ]
  },
  {
   "cell_type": "code",
   "execution_count": 98,
   "id": "b2925493",
   "metadata": {},
   "outputs": [
    {
     "data": {
      "text/plain": [
       "4"
      ]
     },
     "execution_count": 98,
     "metadata": {},
     "output_type": "execute_result"
    }
   ],
   "source": [
    "kl.elbow"
   ]
  },
  {
   "cell_type": "code",
   "execution_count": 99,
   "id": "d6d5b7ec",
   "metadata": {},
   "outputs": [],
   "source": [
    "y_kmeans = kmeans.predict(features)"
   ]
  },
  {
   "cell_type": "code",
   "execution_count": 100,
   "id": "25dfbe55",
   "metadata": {},
   "outputs": [
    {
     "data": {
      "text/plain": [
       "<matplotlib.legend.Legend at 0x237718b8040>"
      ]
     },
     "execution_count": 100,
     "metadata": {},
     "output_type": "execute_result"
    },
    {
     "data": {
      "image/png": "[encoded data removed]",
      "text/plain": [
       "<Figure size 432x288 with 1 Axes>"
      ]
     },
     "metadata": {},
     "output_type": "display_data"
    }
   ],
   "source": [
    "fig, ax = plt.subplots()\n",
    "scatter = plt.scatter(features[:, 0], features[:, 1], c=y_kmeans, s=50, cmap='viridis')\n",
    "legend1 = plt.legend(*scatter.legend_elements(),\n",
    "                    loc=\"lower left\", title=\"Classes\")\n",
    "ax.add_artist(legend1)"
   ]
  },
  {
   "cell_type": "markdown",
   "id": "c5b8dd95",
   "metadata": {},
   "source": [
    "# Using scaled features"
   ]
  },
  {
   "cell_type": "code",
   "execution_count": 101,
   "id": "01acf14e",
   "metadata": {},
   "outputs": [
    {
     "data": {
      "text/plain": [
       "KMeans(init='random', n_clusters=10, random_state=42)"
      ]
     },
     "execution_count": 101,
     "metadata": {},
     "output_type": "execute_result"
    }
   ],
   "source": [
    "kmeans.fit(scaled_features)"
   ]
  },
  {
   "cell_type": "code",
   "execution_count": 102,
   "id": "dafe1da0",
   "metadata": {},
   "outputs": [
    {
     "data": {
      "text/plain": [
       "18.31155327783049"
      ]
     },
     "execution_count": 102,
     "metadata": {},
     "output_type": "execute_result"
    }
   ],
   "source": [
    " # The lowest SSE value\n",
    "kmeans.inertia_"
   ]
  },
  {
   "cell_type": "code",
   "execution_count": 103,
   "id": "ccec9630",
   "metadata": {},
   "outputs": [
    {
     "data": {
      "text/plain": [
       "array([[-0.59513655, -1.25585697],\n",
       "       [-1.38609081, -0.02491061],\n",
       "       [ 0.78325901, -1.20015173],\n",
       "       [-0.31231408,  1.36065939],\n",
       "       [-1.07385736,  0.82526385],\n",
       "       [-1.16250675, -0.74228381],\n",
       "       [ 1.29637248,  0.43688769],\n",
       "       [ 0.09030741, -1.33054864],\n",
       "       [ 0.63770747,  1.21021766],\n",
       "       [ 1.29212099, -0.5452417 ]])"
      ]
     },
     "execution_count": 103,
     "metadata": {},
     "output_type": "execute_result"
    }
   ],
   "source": [
    "# Final locations of the centroid\n",
    "kmeans.cluster_centers_"
   ]
  },
  {
   "cell_type": "code",
   "execution_count": 104,
   "id": "b27b8b34",
   "metadata": {},
   "outputs": [
    {
     "data": {
      "text/plain": [
       "9"
      ]
     },
     "execution_count": 104,
     "metadata": {},
     "output_type": "execute_result"
    }
   ],
   "source": [
    "kmeans.n_iter_"
   ]
  },
  {
   "cell_type": "code",
   "execution_count": 105,
   "id": "4374c951",
   "metadata": {},
   "outputs": [
    {
     "data": {
      "text/plain": [
       "array([5, 4, 3, 6, 2])"
      ]
     },
     "execution_count": 105,
     "metadata": {},
     "output_type": "execute_result"
    }
   ],
   "source": [
    "kmeans.labels_[:5]"
   ]
  },
  {
   "cell_type": "code",
   "execution_count": 106,
   "id": "b70b2598",
   "metadata": {},
   "outputs": [
    {
     "data": {
      "text/plain": [
       "array([5, 4, 3, 6, 2, 9, 9, 6, 3, 0, 0, 8, 6, 9, 6, 8, 5, 4, 4, 5, 1, 8,\n",
       "       4, 9, 3, 5, 4, 3, 9, 3, 1, 0, 9, 7, 7, 9, 7, 0, 0, 7, 6, 6, 9, 8,\n",
       "       5, 8, 8, 4, 2, 3, 9, 3, 8, 1, 3, 7, 7, 6, 6, 4, 8, 0, 7, 4, 8, 6,\n",
       "       3, 6, 1, 0, 5, 2, 2, 5, 0, 8, 8, 8, 9, 8, 1, 9, 2, 8, 9, 8, 2, 3,\n",
       "       2, 1, 9, 4, 5, 2, 1, 6, 9, 9, 1, 7, 7, 8, 9, 1, 6, 0, 2, 1, 6, 8,\n",
       "       6, 1, 7, 0, 1, 0, 2, 3, 1, 5, 7, 9, 1, 5, 4, 2, 7, 4, 0, 6, 3, 2,\n",
       "       2, 6, 3, 3, 3, 6, 0, 6, 1, 4, 6, 2, 0, 8, 4, 5, 6, 2, 1, 3, 7, 4,\n",
       "       3, 6, 0, 1, 1, 3, 9, 3, 8, 8, 7, 6, 5, 3, 6, 5, 8, 5, 5, 6, 9, 4,\n",
       "       2, 9, 0, 1, 4, 5, 5, 4, 1, 6, 8, 7, 3, 3, 0, 3, 4, 9, 2, 3, 4, 0,\n",
       "       4, 4])"
      ]
     },
     "execution_count": 106,
     "metadata": {},
     "output_type": "execute_result"
    }
   ],
   "source": [
    "kmeans.labels_"
   ]
  },
  {
   "cell_type": "code",
   "execution_count": 107,
   "id": "311ebc41",
   "metadata": {},
   "outputs": [],
   "source": [
    "kmeans_kwargs = {\n",
    "       \"init\": \"random\",\n",
    "      \"n_init\": 10,\n",
    "      \"max_iter\": 300,\n",
    "       \"random_state\": 42,\n",
    "    }"
   ]
  },
  {
   "cell_type": "code",
   "execution_count": 108,
   "id": "509a2216",
   "metadata": {},
   "outputs": [],
   "source": [
    "sse = []\n",
    "for k in range(1, 11):\n",
    "    kmeans = KMeans(n_clusters=k, **kmeans_kwargs)\n",
    "    kmeans.fit(scaled_features)\n",
    "    sse.append(kmeans.inertia_)"
   ]
  },
  {
   "cell_type": "code",
   "execution_count": 109,
   "id": "ebac5c3f",
   "metadata": {},
   "outputs": [
    {
     "data": {
      "image/png": "[encoded data removed]",
      "text/plain": [
       "<Figure size 432x288 with 1 Axes>"
      ]
     },
     "metadata": {},
     "output_type": "display_data"
    }
   ],
   "source": [
    "plt.style.use(\"fivethirtyeight\")\n",
    "plt.plot(range(1, 11), sse)\n",
    "plt.xticks(range(1, 11))\n",
    "plt.xlabel(\"Number of Clusters\")\n",
    "plt.ylabel(\"SSE\")\n",
    "plt.show()"
   ]
  },
  {
   "cell_type": "code",
   "execution_count": 110,
   "id": "2c69d0d6",
   "metadata": {},
   "outputs": [],
   "source": [
    "kl = KneeLocator(\n",
    "    range(1, 11), sse, curve=\"convex\", direction=\"decreasing\"\n",
    ")"
   ]
  },
  {
   "cell_type": "code",
   "execution_count": 111,
   "id": "1acb566b",
   "metadata": {},
   "outputs": [
    {
     "data": {
      "text/plain": [
       "4"
      ]
     },
     "execution_count": 111,
     "metadata": {},
     "output_type": "execute_result"
    }
   ],
   "source": [
    "kl.elbow"
   ]
  },
  {
   "cell_type": "code",
   "execution_count": 112,
   "id": "49834851",
   "metadata": {},
   "outputs": [],
   "source": [
    "y_kmeans = kmeans.predict(scaled_features)"
   ]
  },
  {
   "cell_type": "code",
   "execution_count": 113,
   "id": "d874dc1a",
   "metadata": {},
   "outputs": [
    {
     "data": {
      "text/plain": [
       "<matplotlib.legend.Legend at 0x23771985550>"
      ]
     },
     "execution_count": 113,
     "metadata": {},
     "output_type": "execute_result"
    },
    {
     "data": {
      "image/png": "[encoded data removed]",
      "text/plain": [
       "<Figure size 432x288 with 1 Axes>"
      ]
     },
     "metadata": {},
     "output_type": "display_data"
    }
   ],
   "source": [
    "fig, ax = plt.subplots()\n",
    "scatter = plt.scatter(features[:, 0], features[:, 1], c=y_kmeans, s=50, cmap='viridis')\n",
    "legend1 = plt.legend(*scatter.legend_elements(),\n",
    "                    loc=\"lower left\", title=\"Classes\")\n",
    "ax.add_artist(legend1)"
   ]
  },
  {
   "cell_type": "code",
   "execution_count": null,
   "id": "cbdabb10",
   "metadata": {},
   "outputs": [],
   "source": []
  }
 ],
 "metadata": {
  "kernelspec": {
   "display_name": "Python 3",
   "language": "python",
   "name": "python3"
  },
  "language_info": {
   "codemirror_mode": {
    "name": "ipython",
    "version": 3
   },
   "file_extension": ".py",
   "mimetype": "text/x-python",
   "name": "python",
   "nbconvert_exporter": "python",
   "pygments_lexer": "ipython3",
   "version": "3.8.10"
  }
 },
 "nbformat": 4,
 "nbformat_minor": 5
}
